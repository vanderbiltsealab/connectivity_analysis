{
 "cells": [
  {
   "cell_type": "code",
   "execution_count": 14,
   "metadata": {},
   "outputs": [],
   "source": [
    "#import packages\n",
    "from nipype.interfaces.io import DataSink, SelectFiles, DataGrabber # Data i/o\n",
    "from nipype.interfaces.utility import IdentityInterface, Function     # utility\n",
    "from nipype.pipeline.engine import Node, Workflow, MapNode, JoinNode        # pypeline engine\n",
    "from pandas import DataFrame, Series,read_csv\n",
    "\n",
    "#set output file type for FSL to NIFTI_GZ\n",
    "from nipype.interfaces.fsl.preprocess import FSLCommand\n",
    "FSLCommand.set_default_output_type('NIFTI_GZ')\n",
    "\n",
    "# MATLAB setup - Specify path to current SPM and the MATLAB's default mode\n",
    "from nipype.interfaces.matlab import MatlabCommand\n",
    "MatlabCommand.set_default_paths('~/spm12/toolbox')\n",
    "MatlabCommand.set_default_matlab_cmd(\"matlab -nodesktop -nosplash\")\n",
    "\n",
    "# Set study variables\n",
    "setup='Cat'\n",
    "sample='newborn' #6mo or newborn\n",
    "\n",
    "if setup=='Marissa':\n",
    "    studyhome = '/Volumes/SEALab_Projects/BABIES/MRI/Newborn_BIDS'  #update if 6-month old\n",
    "    raw_data = studyhome + '/raw'\n",
    "    output_dir = studyhome + '/proc/preproc'\n",
    "    workflow_dir = studyhome + '/workflows' \n",
    "    templates = studyhome + '/templates'\n",
    "elif setup=='Cat':\n",
    "    studyhome = '/home/camachocm2/Analysis/SEA/rest_proc'\n",
    "    raw_data = studyhome + '/raw/raw_func'\n",
    "    preproc_dir = studyhome + '/processed/preproc'\n",
    "    output_dir = studyhome + '/processed/network_analysis_combROI'\n",
    "    workflow_dir = studyhome + '/workflows'\n",
    "    templates = studyhome + '/templates'\n",
    "    subjects_info = read_csv(studyhome + '/misc/subject_info.csv',index_col=None, dtype={'subject_id':str})\n",
    "\n",
    "subjects_list = subjects_info['subject_id'].tolist()\n",
    "\n",
    "template_atlas = studyhome + '/rois/amyg_pfc_comb_rois.nii.gz'\n",
    "template_atlas_key = studyhome + '/rois/amyg_pfc_comb_rois_key.csv'\n",
    "\n",
    "proc_cores = 6 # number of cores of processing for the workflows"
   ]
  },
  {
   "cell_type": "code",
   "execution_count": 15,
   "metadata": {},
   "outputs": [],
   "source": [
    "def correlation_matrix(func,atlas,atlas_labels):\n",
    "    from nipype import config, logging\n",
    "    config.enable_debug_mode()\n",
    "    logging.update_logging(config)\n",
    "    from os.path import abspath\n",
    "    from nilearn.input_data import NiftiLabelsMasker\n",
    "    from nilearn.connectome import ConnectivityMeasure\n",
    "    from nilearn import plotting\n",
    "    from pandas import read_csv, DataFrame\n",
    "    import matplotlib.pyplot as plt\n",
    "\n",
    "    labels_df = read_csv(atlas_labels, index_col=None)\n",
    "    labels = labels_df['region_name']\n",
    "    masker = NiftiLabelsMasker(labels_img=atlas, standardize=True)\n",
    "    time_series = masker.fit_transform(func)\n",
    "\n",
    "    correlation_measure = ConnectivityMeasure(kind='correlation')\n",
    "    correlation_matrix = correlation_measure.fit_transform([time_series])[0]\n",
    "    corr_mat_df = DataFrame(correlation_matrix,columns=labels,index=labels)\n",
    "    corr_mat_df.to_csv('correlation_matrix.csv')\n",
    "\n",
    "    plt.figure()\n",
    "    plotting.plot_matrix(correlation_matrix, figure=(10, 8), labels=labels,\n",
    "                         vmax=0.8, vmin=-0.8, reorder=True)\n",
    "    plt.savefig('corr_matrix.svg')\n",
    "    plt.close()\n",
    "    \n",
    "    corr_mat_fig = abspath('corr_matrix.svg')\n",
    "    corr_matrix = abspath('correlation_matrix.csv')\n",
    "    \n",
    "    return(corr_matrix, corr_mat_fig)"
   ]
  },
  {
   "cell_type": "code",
   "execution_count": 16,
   "metadata": {},
   "outputs": [],
   "source": [
    "## File handling Nodes\n",
    "\n",
    "# Identity node- select subjects\n",
    "infosource = Node(IdentityInterface(fields=['subject_id']),\n",
    "                     name='infosource')\n",
    "infosource.iterables = ('subject_id', subjects_list)\n",
    "\n",
    "# Datasink- where our select outputs will go\n",
    "substitutions = [('_subject_id_', '')]\n",
    "datasink = Node(DataSink(), name='datasink')\n",
    "datasink.inputs.base_directory = output_dir\n",
    "datasink.inputs.container = output_dir\n",
    "datasink.inputs.substitutions = substitutions\n",
    "\n",
    "# Data grabber\n",
    "file_template = {'func': preproc_dir + '/fully_processed_func/{subject_id}/final_proc_func.nii.gz'}\n",
    "selectfiles = Node(SelectFiles(file_template), name='selectfiles')\n",
    "\n",
    "calc_connectivity = Node(Function(input_names=['func','atlas','atlas_labels'], \n",
    "                                  output_names=['corr_matrix','corr_mat_fig'], \n",
    "                                  function=correlation_matrix), \n",
    "                         name='calc_connectivity')\n",
    "calc_connectivity.inputs.atlas = template_atlas\n",
    "calc_connectivity.inputs.atlas_labels = template_atlas_key"
   ]
  },
  {
   "cell_type": "code",
   "execution_count": null,
   "metadata": {},
   "outputs": [],
   "source": [
    "connect_flow = Workflow(name='connect_flow')\n",
    "connect_flow.connect([(infosource,selectfiles, [('subject_id','subject_id')]),\n",
    "                      (selectfiles, calc_connectivity, [('func','func')]),\n",
    "                      \n",
    "                      (calc_connectivity, datasink, [('corr_matrix','correlation_matrix'),\n",
    "                                                     ('corr_mat_fig','corr_matrix_plot')])\n",
    "                     ])\n",
    "\n",
    "connect_flow.base_dir = workflow_dir\n",
    "connect_flow.write_graph(graph2use='flat')\n",
    "connect_flow.run('MultiProc', plugin_args={'n_procs': 4, 'memory_gb':30})"
   ]
  },
  {
   "cell_type": "code",
   "execution_count": 22,
   "metadata": {},
   "outputs": [
    {
     "data": {
      "text/plain": [
       "<Figure size 432x288 with 0 Axes>"
      ]
     },
     "metadata": {},
     "output_type": "display_data"
    },
    {
     "data": {
      "image/png": "[encoded data removed]",
      "text/plain": [
       "<Figure size 432x432 with 2 Axes>"
      ]
     },
     "metadata": {
      "needs_background": "light"
     },
     "output_type": "display_data"
    }
   ],
   "source": [
    "from nilearn import plotting\n",
    "from pandas import read_csv, DataFrame\n",
    "import matplotlib.pyplot as plt\n",
    "import numpy as np\n",
    "\n",
    "labels_df = read_csv(template_atlas_key, index_col=None)\n",
    "labels = labels_df['region_name']\n",
    "\n",
    "group_conn_data = read_csv(output_dir + '/correlation_matrix/{0}/correlation_matrix.csv'.format(subjects_list[0]), index_col=0)\n",
    "group_conn_mat = group_conn_data.to_numpy()\n",
    "group_conn_mat = np.expand_dims(group_conn_mat, axis=2)\n",
    "\n",
    "for sub in subjects_list[1:]:\n",
    "    temp = read_csv(output_dir + '/correlation_matrix/{0}/correlation_matrix.csv'.format(sub), index_col=0)\n",
    "    temp_mat = np.expand_dims(temp.to_numpy(),axis=2)\n",
    "    group_conn_mat = np.concatenate((group_conn_mat,temp_mat),axis=2)\n",
    "\n",
    "mean_conn_data = np.average(group_conn_mat,axis=2)\n",
    "\n",
    "\n",
    "plt.figure()\n",
    "plotting.plot_matrix(mean_conn_data, figure=(6, 6), labels=labels,\n",
    "                     vmax=1, vmin=-1,reorder=True)\n",
    "plt.savefig(output_dir+'/group_mean_combpfc_corr_matrix.png')\n",
    "plt.show()\n",
    "plt.close()"
   ]
  },
  {
   "cell_type": "code",
   "execution_count": null,
   "metadata": {},
   "outputs": [],
   "source": []
  }
 ],
 "metadata": {
  "kernelspec": {
   "display_name": "Python 3",
   "language": "python",
   "name": "python3"
  },
  "language_info": {
   "codemirror_mode": {
    "name": "ipython",
    "version": 3
   },
   "file_extension": ".py",
   "mimetype": "text/x-python",
   "name": "python",
   "nbconvert_exporter": "python",
   "pygments_lexer": "ipython3",
   "version": "3.7.2"
  }
 },
 "nbformat": 4,
 "nbformat_minor": 2
}
